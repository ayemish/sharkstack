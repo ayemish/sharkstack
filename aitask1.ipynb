{
  "cells": [
    {
      "cell_type": "markdown",
      "metadata": {
        "id": "view-in-github",
        "colab_type": "text"
      },
      "source": [
        "<a href=\"https://colab.research.google.com/github/ayemish/sharkstack/blob/main/aitask1.ipynb\" target=\"_parent\"><img src=\"https://colab.research.google.com/assets/colab-badge.svg\" alt=\"Open In Colab\"/></a>"
      ]
    },
    {
      "cell_type": "markdown",
      "metadata": {
        "id": "cuLWScwemAW2"
      },
      "source": [
        "**TASK 1** (AI ENGINEERING INTERNSHIP )"
      ]
    },
    {
      "cell_type": "code",
      "execution_count": null,
      "metadata": {
        "collapsed": true,
        "id": "eiASl_H4dZkU"
      },
      "outputs": [],
      "source": [
        "!pip install transformers torch\n",
        "\n",
        "from transformers import pipeline\n",
        "\n",
        "writer = pipeline(\"text-generation\", model=\"gpt2\")"
      ]
    },
    {
      "cell_type": "code",
      "execution_count": null,
      "metadata": {
        "id": "mHkvUWEydtu3"
      },
      "outputs": [],
      "source": [
        "topic = \"education importance\"\n",
        "\n",
        "prompt = f\"Write a short paragraph about {topic}:\\n\\n\"\n",
        "result = writer(prompt, max_length=300, temperature=0.7, do_sample=True)\n",
        "\n",
        "print(result[0]['generated_text'])\n"
      ]
    },
    {
      "cell_type": "markdown",
      "metadata": {
        "id": "wwVNTaKHx5AJ"
      },
      "source": [
        "**TASK2**"
      ]
    },
    {
      "cell_type": "code",
      "execution_count": null,
      "metadata": {
        "id": "JSL2z75PgUtU"
      },
      "outputs": [],
      "source": [
        "sentiment_analyzer = pipeline(\"sentiment-analysis\")"
      ]
    },
    {
      "cell_type": "code",
      "execution_count": null,
      "metadata": {
        "id": "0Tzw8IYMnQv5"
      },
      "outputs": [],
      "source": [
        "text = \"I hate this product! .\"  # Replace with your text\n",
        "\n",
        "result = sentiment_analyzer(text)\n",
        "print(result)"
      ]
    },
    {
      "cell_type": "markdown",
      "metadata": {
        "id": "aZL2D_4Kx7Rz"
      },
      "source": [
        "**TASK3**"
      ]
    },
    {
      "cell_type": "code",
      "execution_count": null,
      "metadata": {
        "id": "yG81pMFf2ov5"
      },
      "outputs": [],
      "source": [
        "resume_writer = pipeline(\"text-generation\", model=\"gpt2\", truncation=True)\n",
        "\n",
        "\n",
        "user_info = {\n",
        "    \"name\": \"Ayemish Mushtaq\",\n",
        "    \"email\": \"ayemish123@gmail.com\",\n",
        "    \"target_role\": \"Data Scientist\",\n",
        "    \"years_experience\": \"2\",\n",
        "    \"degree\": \"BSc in Computer Science\",\n",
        "    \"github\": \"github.com/ayemish\"\n",
        "}\n",
        "\n",
        "\n",
        "prompt = f\"\"\"\n",
        "Create a complete professional resume for {user_info['name']} targeting a {user_info['target_role']} position.\n",
        "The candidate has {user_info['years_experience']} years of experience and holds a {user_info['degree']}.\n",
        "\n",
        "Include these sections with AI-generated content:\n",
        "1. Professional Header (with {user_info['email']} and GitHub: {user_info['github']})\n",
        "2. Compelling Professional Summary (4-5 sentences)\n",
        "3. Technical Skills (8-10 relevant skills for the role)\n",
        "4. Professional Experience (3 bullet points per position)\n",
        "5. Education (with relevant coursework)\n",
        "6. Projects (2-3 notable GitHub projects)\n",
        "7. Certifications (AI should suggest relevant ones)\n",
        "\n",
        "\n",
        "\"\"\"\n",
        "\n",
        "# Generate the complete resume\n",
        "resume = resume_writer(\n",
        "    prompt,\n",
        "    max_length=800,\n",
        "    temperature=0.7,\n",
        "    do_sample=True,\n",
        "    truncation=True\n",
        ")\n",
        "\n",
        "print(resume[0]['generated_text'])"
      ]
    }
  ],
  "metadata": {
    "colab": {
      "provenance": [],
      "authorship_tag": "ABX9TyPpQYTcpBxDxODZ3WHFSQgP",
      "include_colab_link": true
    },
    "kernelspec": {
      "display_name": "Python 3",
      "name": "python3"
    },
    "language_info": {
      "name": "python"
    }
  },
  "nbformat": 4,
  "nbformat_minor": 0
}